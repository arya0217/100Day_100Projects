{
  "nbformat": 4,
  "nbformat_minor": 0,
  "metadata": {
    "colab": {
      "provenance": []
    },
    "kernelspec": {
      "name": "python3",
      "display_name": "Python 3"
    },
    "language_info": {
      "name": "python"
    }
  },
  "cells": [
    {
      "cell_type": "code",
      "execution_count": 5,
      "metadata": {
        "colab": {
          "base_uri": "https://localhost:8080/"
        },
        "id": "l18yChAmxMWn",
        "outputId": "92125835-0a64-4d77-8be3-15a9ed891783"
      },
      "outputs": [
        {
          "output_type": "stream",
          "name": "stdout",
          "text": [
            "What's yout name?Arya\n",
            "What's your favourite hobby?F1\n",
            "\n",
            "--- Welcome Message ---\n",
            "Hello, Arya! 👋\n",
            "Welcome to the world of Python Programming.\n",
            "It's great to know that you love F1.\n",
            "Get ready to build something amazing today.\n"
          ]
        }
      ],
      "source": [
        "#Day 02 of 100 Days of Python : Welcome Message Generator\n",
        "\n",
        "#Step 01: Ask the details\n",
        "name = input(\"What's yout name?\")\n",
        "hobby = input(\"What's your favourite hobby?\")\n",
        "\n",
        "#Step 02: Generating the message\n",
        "print(\"\\n--- Welcome Message ---\")\n",
        "print(f\"Hello, {name}! 👋\")\n",
        "print(f\"Welcome to the world of Python Programming.\")\n",
        "print(f\"It's great to know that you love {hobby}.\")\n",
        "print(f\"Get ready to build something amazing today.\")"
      ]
    },
    {
      "cell_type": "code",
      "source": [],
      "metadata": {
        "id": "zA2RvgGQyjpz"
      },
      "execution_count": null,
      "outputs": []
    }
  ]
}